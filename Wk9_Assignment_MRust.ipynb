{
 "cells": [
  {
   "cell_type": "markdown",
   "metadata": {},
   "source": [
    "***1. Neural Network Classifier with Scikit***"
   ]
  },
  {
   "cell_type": "code",
   "execution_count": 16,
   "metadata": {},
   "outputs": [],
   "source": [
    "# Import libraries necessary for this step\n",
    "import numpy as np\n",
    "import pandas as pd\n",
    "import json\n",
    "import unicodedata\n",
    "import sys\n",
    "import nltk\n",
    "from nltk.tokenize import word_tokenize\n",
    "from nltk.tag import pos_tag, pos_tag_sents\n",
    "from nltk.corpus import stopwords\n",
    "from nltk.stem.porter import PorterStemmer"
   ]
  },
  {
   "cell_type": "code",
   "execution_count": 21,
   "metadata": {
    "scrolled": true
   },
   "outputs": [
    {
     "data": {
      "text/html": [
       "<div>\n",
       "<style scoped>\n",
       "    .dataframe tbody tr th:only-of-type {\n",
       "        vertical-align: middle;\n",
       "    }\n",
       "\n",
       "    .dataframe tbody tr th {\n",
       "        vertical-align: top;\n",
       "    }\n",
       "\n",
       "    .dataframe thead th {\n",
       "        text-align: right;\n",
       "    }\n",
       "</style>\n",
       "<table border=\"1\" class=\"dataframe\">\n",
       "  <thead>\n",
       "    <tr style=\"text-align: right;\">\n",
       "      <th></th>\n",
       "      <th>cat</th>\n",
       "      <th>txt</th>\n",
       "    </tr>\n",
       "  </thead>\n",
       "  <tbody>\n",
       "    <tr>\n",
       "      <th>0</th>\n",
       "      <td>sports</td>\n",
       "      <td>Barely better than Gabbert? He was significant...</td>\n",
       "    </tr>\n",
       "    <tr>\n",
       "      <th>1</th>\n",
       "      <td>sports</td>\n",
       "      <td>Fuck the ducks and the Angels! But welcome to ...</td>\n",
       "    </tr>\n",
       "    <tr>\n",
       "      <th>2</th>\n",
       "      <td>sports</td>\n",
       "      <td>Should have drafted more WRs.\\n\\n- Matt Millen...</td>\n",
       "    </tr>\n",
       "    <tr>\n",
       "      <th>3</th>\n",
       "      <td>sports</td>\n",
       "      <td>[Done](https://i.imgur.com/2YZ90pm.jpg)</td>\n",
       "    </tr>\n",
       "    <tr>\n",
       "      <th>4</th>\n",
       "      <td>sports</td>\n",
       "      <td>No!! NOO!!!!!</td>\n",
       "    </tr>\n",
       "  </tbody>\n",
       "</table>\n",
       "</div>"
      ],
      "text/plain": [
       "      cat                                                txt\n",
       "0  sports  Barely better than Gabbert? He was significant...\n",
       "1  sports  Fuck the ducks and the Angels! But welcome to ...\n",
       "2  sports  Should have drafted more WRs.\\n\\n- Matt Millen...\n",
       "3  sports            [Done](https://i.imgur.com/2YZ90pm.jpg)\n",
       "4  sports                                      No!! NOO!!!!!"
      ]
     },
     "execution_count": 21,
     "metadata": {},
     "output_type": "execute_result"
    }
   ],
   "source": [
    "# Read json file as pandas dataframe and save it\n",
    "df = pd.read_json('categorized-comments.jsonl', lines=True, nrows=559646)\n",
    "df.head()"
   ]
  },
  {
   "cell_type": "code",
   "execution_count": 22,
   "metadata": {
    "scrolled": false
   },
   "outputs": [
    {
     "data": {
      "text/html": [
       "<div>\n",
       "<style scoped>\n",
       "    .dataframe tbody tr th:only-of-type {\n",
       "        vertical-align: middle;\n",
       "    }\n",
       "\n",
       "    .dataframe tbody tr th {\n",
       "        vertical-align: top;\n",
       "    }\n",
       "\n",
       "    .dataframe thead th {\n",
       "        text-align: right;\n",
       "    }\n",
       "</style>\n",
       "<table border=\"1\" class=\"dataframe\">\n",
       "  <thead>\n",
       "    <tr style=\"text-align: right;\">\n",
       "      <th></th>\n",
       "      <th>cat</th>\n",
       "      <th>txt</th>\n",
       "    </tr>\n",
       "  </thead>\n",
       "  <tbody>\n",
       "    <tr>\n",
       "      <th>0</th>\n",
       "      <td>sports</td>\n",
       "      <td>barely better than gabbert? he was significant...</td>\n",
       "    </tr>\n",
       "    <tr>\n",
       "      <th>1</th>\n",
       "      <td>sports</td>\n",
       "      <td>fuck the ducks and the angels! but welcome to ...</td>\n",
       "    </tr>\n",
       "    <tr>\n",
       "      <th>2</th>\n",
       "      <td>sports</td>\n",
       "      <td>should have drafted more wrs.\\n\\n- matt millen...</td>\n",
       "    </tr>\n",
       "    <tr>\n",
       "      <th>3</th>\n",
       "      <td>sports</td>\n",
       "      <td>[done](https://i.imgur.com/2yz90pm.jpg)</td>\n",
       "    </tr>\n",
       "    <tr>\n",
       "      <th>4</th>\n",
       "      <td>sports</td>\n",
       "      <td>no!! noo!!!!!</td>\n",
       "    </tr>\n",
       "  </tbody>\n",
       "</table>\n",
       "</div>"
      ],
      "text/plain": [
       "      cat                                                txt\n",
       "0  sports  barely better than gabbert? he was significant...\n",
       "1  sports  fuck the ducks and the angels! but welcome to ...\n",
       "2  sports  should have drafted more wrs.\\n\\n- matt millen...\n",
       "3  sports            [done](https://i.imgur.com/2yz90pm.jpg)\n",
       "4  sports                                      no!! noo!!!!!"
      ]
     },
     "execution_count": 22,
     "metadata": {},
     "output_type": "execute_result"
    }
   ],
   "source": [
    "# Convert text to lowercase\n",
    "df['txt'] = df['txt'].str.lower()\n",
    "df.head()"
   ]
  },
  {
   "cell_type": "code",
   "execution_count": 23,
   "metadata": {
    "scrolled": true
   },
   "outputs": [
    {
     "data": {
      "text/html": [
       "<div>\n",
       "<style scoped>\n",
       "    .dataframe tbody tr th:only-of-type {\n",
       "        vertical-align: middle;\n",
       "    }\n",
       "\n",
       "    .dataframe tbody tr th {\n",
       "        vertical-align: top;\n",
       "    }\n",
       "\n",
       "    .dataframe thead th {\n",
       "        text-align: right;\n",
       "    }\n",
       "</style>\n",
       "<table border=\"1\" class=\"dataframe\">\n",
       "  <thead>\n",
       "    <tr style=\"text-align: right;\">\n",
       "      <th></th>\n",
       "      <th>cat</th>\n",
       "      <th>txt</th>\n",
       "    </tr>\n",
       "  </thead>\n",
       "  <tbody>\n",
       "    <tr>\n",
       "      <th>0</th>\n",
       "      <td>sports</td>\n",
       "      <td>barely better than gabbert he was significantl...</td>\n",
       "    </tr>\n",
       "    <tr>\n",
       "      <th>1</th>\n",
       "      <td>sports</td>\n",
       "      <td>fuck the ducks and the angels but welcome to a...</td>\n",
       "    </tr>\n",
       "    <tr>\n",
       "      <th>2</th>\n",
       "      <td>sports</td>\n",
       "      <td>should have drafted more wrs\\n\\n matt millen p...</td>\n",
       "    </tr>\n",
       "    <tr>\n",
       "      <th>3</th>\n",
       "      <td>sports</td>\n",
       "      <td>donehttpsiimgurcom2yz90pmjpg</td>\n",
       "    </tr>\n",
       "    <tr>\n",
       "      <th>4</th>\n",
       "      <td>sports</td>\n",
       "      <td>no noo</td>\n",
       "    </tr>\n",
       "  </tbody>\n",
       "</table>\n",
       "</div>"
      ],
      "text/plain": [
       "      cat                                                txt\n",
       "0  sports  barely better than gabbert he was significantl...\n",
       "1  sports  fuck the ducks and the angels but welcome to a...\n",
       "2  sports  should have drafted more wrs\\n\\n matt millen p...\n",
       "3  sports                       donehttpsiimgurcom2yz90pmjpg\n",
       "4  sports                                             no noo"
      ]
     },
     "execution_count": 23,
     "metadata": {},
     "output_type": "execute_result"
    }
   ],
   "source": [
    "# Create a dictionary of punctuation characters\n",
    "punctuation = dict.fromkeys(i for i in range(sys.maxunicode)\n",
    "                            if unicodedata.category(chr(i)).startswith('P'))\n",
    "\n",
    "# Use the punctuation dictionary to remove all punctuation from text column\n",
    "df['txt'] = [string.translate(punctuation) for string in df['txt']]\n",
    "df['txt'] = df['txt'].replace(\"\\n\",\" \")\n",
    "df.head()"
   ]
  },
  {
   "cell_type": "code",
   "execution_count": 27,
   "metadata": {},
   "outputs": [
    {
     "data": {
      "text/html": [
       "<div>\n",
       "<style scoped>\n",
       "    .dataframe tbody tr th:only-of-type {\n",
       "        vertical-align: middle;\n",
       "    }\n",
       "\n",
       "    .dataframe tbody tr th {\n",
       "        vertical-align: top;\n",
       "    }\n",
       "\n",
       "    .dataframe thead th {\n",
       "        text-align: right;\n",
       "    }\n",
       "</style>\n",
       "<table border=\"1\" class=\"dataframe\">\n",
       "  <thead>\n",
       "    <tr style=\"text-align: right;\">\n",
       "      <th></th>\n",
       "      <th>cat</th>\n",
       "      <th>txt</th>\n",
       "    </tr>\n",
       "  </thead>\n",
       "  <tbody>\n",
       "    <tr>\n",
       "      <th>0</th>\n",
       "      <td>sports</td>\n",
       "      <td>barely better  gabbert   significantly better ...</td>\n",
       "    </tr>\n",
       "    <tr>\n",
       "      <th>1</th>\n",
       "      <td>sports</td>\n",
       "      <td>fuck  ducks   angels  welcome   new niners fans</td>\n",
       "    </tr>\n",
       "    <tr>\n",
       "      <th>2</th>\n",
       "      <td>sports</td>\n",
       "      <td>drafted  wrs\\n\\n matt millen probably</td>\n",
       "    </tr>\n",
       "    <tr>\n",
       "      <th>3</th>\n",
       "      <td>sports</td>\n",
       "      <td>donehttpsiimgurcom2yz90pmjpg</td>\n",
       "    </tr>\n",
       "    <tr>\n",
       "      <th>4</th>\n",
       "      <td>sports</td>\n",
       "      <td>noo</td>\n",
       "    </tr>\n",
       "  </tbody>\n",
       "</table>\n",
       "</div>"
      ],
      "text/plain": [
       "      cat                                                txt\n",
       "0  sports  barely better  gabbert   significantly better ...\n",
       "1  sports    fuck  ducks   angels  welcome   new niners fans\n",
       "2  sports              drafted  wrs\\n\\n matt millen probably\n",
       "3  sports                       donehttpsiimgurcom2yz90pmjpg\n",
       "4  sports                                                noo"
      ]
     },
     "execution_count": 27,
     "metadata": {},
     "output_type": "execute_result"
    }
   ],
   "source": [
    "# Load stopwords, create function to remove stopwords, and apply to text\n",
    "import re\n",
    "stop_words = set(stopwords.words('english'))\n",
    "stop_words.update(['zero','one','two','three','four','five','six','seven','eight','nine','ten','may','also','across','among','beside','however','yet','within'])\n",
    "re_stop_words = re.compile(r\"\\b(\" + \"|\".join(stop_words) + \")\\\\W\", re.I)\n",
    "\n",
    "def removeStopWords(sentence):\n",
    "    global re_stop_words\n",
    "    return re_stop_words.sub(\" \", sentence)\n",
    "\n",
    "df['txt'] = df['txt'].apply(removeStopWords)\n",
    "df.head()"
   ]
  },
  {
   "cell_type": "code",
   "execution_count": 28,
   "metadata": {
    "scrolled": false
   },
   "outputs": [
    {
     "data": {
      "text/html": [
       "<div>\n",
       "<style scoped>\n",
       "    .dataframe tbody tr th:only-of-type {\n",
       "        vertical-align: middle;\n",
       "    }\n",
       "\n",
       "    .dataframe tbody tr th {\n",
       "        vertical-align: top;\n",
       "    }\n",
       "\n",
       "    .dataframe thead th {\n",
       "        text-align: right;\n",
       "    }\n",
       "</style>\n",
       "<table border=\"1\" class=\"dataframe\">\n",
       "  <thead>\n",
       "    <tr style=\"text-align: right;\">\n",
       "      <th></th>\n",
       "      <th>cat</th>\n",
       "      <th>txt</th>\n",
       "    </tr>\n",
       "  </thead>\n",
       "  <tbody>\n",
       "    <tr>\n",
       "      <th>0</th>\n",
       "      <td>sports</td>\n",
       "      <td>bare better gabbert signific better year 16th ...</td>\n",
       "    </tr>\n",
       "    <tr>\n",
       "      <th>1</th>\n",
       "      <td>sports</td>\n",
       "      <td>fuck duck angel welcom new niner fan</td>\n",
       "    </tr>\n",
       "    <tr>\n",
       "      <th>2</th>\n",
       "      <td>sports</td>\n",
       "      <td>draft wrs matt millen probabl</td>\n",
       "    </tr>\n",
       "    <tr>\n",
       "      <th>3</th>\n",
       "      <td>sports</td>\n",
       "      <td>donehttpsiimgurcom2yz90pmjpg</td>\n",
       "    </tr>\n",
       "    <tr>\n",
       "      <th>4</th>\n",
       "      <td>sports</td>\n",
       "      <td>noo</td>\n",
       "    </tr>\n",
       "  </tbody>\n",
       "</table>\n",
       "</div>"
      ],
      "text/plain": [
       "      cat                                                txt\n",
       "0  sports  bare better gabbert signific better year 16th ...\n",
       "1  sports               fuck duck angel welcom new niner fan\n",
       "2  sports                      draft wrs matt millen probabl\n",
       "3  sports                       donehttpsiimgurcom2yz90pmjpg\n",
       "4  sports                                                noo"
      ]
     },
     "execution_count": 28,
     "metadata": {},
     "output_type": "execute_result"
    }
   ],
   "source": [
    "# Create a stemming function and apply it to text\n",
    "from nltk.stem.snowball import SnowballStemmer\n",
    "stemmer = SnowballStemmer(\"english\")\n",
    "\n",
    "def stemming(sentence):\n",
    "    stemSentence = \"\"\n",
    "    for word in sentence.split():\n",
    "        stem = stemmer.stem(word)\n",
    "        stemSentence += stem\n",
    "        stemSentence += \" \"\n",
    "    stemSentence = stemSentence.strip()\n",
    "    return stemSentence\n",
    "\n",
    "df['txt'] = df['txt'].apply(stemming)\n",
    "df.head()"
   ]
  },
  {
   "cell_type": "code",
   "execution_count": 110,
   "metadata": {},
   "outputs": [],
   "source": [
    "# Sample the dataset because it is very large\n",
    "sample = df.sample(n=1000)\n",
    "\n",
    "#creating sample2 and resetting the index here to fix a problem that occured with the keras model. \n",
    "# Comment this section out for MLPClassifier exercise.\n",
    "sample2 = sample.reset_index()\n",
    "sample2 = sample2[['cat', 'txt']]"
   ]
  },
  {
   "cell_type": "code",
   "execution_count": 137,
   "metadata": {},
   "outputs": [],
   "source": [
    "# Train test split the data\n",
    "from sklearn.model_selection import train_test_split\n",
    "\n",
    "train, test = train_test_split(sample2, random_state=42, test_size=0.30, shuffle=True)\n",
    "\n",
    "#resetting the index here to fix a problem that occured with the keras model. \n",
    "# Comment this section out for MLPClassifier exercise.\n",
    "train = train.reset_index()\n",
    "test = test.reset_index()"
   ]
  },
  {
   "cell_type": "code",
   "execution_count": 140,
   "metadata": {},
   "outputs": [],
   "source": [
    "# Convert text to numerical vectors using Tfidf\n",
    "from sklearn.feature_extraction.text import TfidfVectorizer\n",
    "\n",
    "vectorizer = TfidfVectorizer(strip_accents='unicode', analyzer='word', ngram_range=(1,3), norm='l2', max_features = 3000\n",
    ")\n",
    "vectorizer.fit(train['txt'])\n",
    "vectorizer.fit(test['txt'])\n",
    "\n",
    "x_train = vectorizer.transform(train['txt'])\n",
    "y_train = train['cat']\n",
    "x_test = vectorizer.transform(test['txt'])\n",
    "y_test = test['cat']"
   ]
  },
  {
   "cell_type": "code",
   "execution_count": 49,
   "metadata": {},
   "outputs": [],
   "source": [
    "# Create classifier\n",
    "from sklearn.neural_network import MLPClassifier\n",
    "clf = MLPClassifier(hidden_layer_sizes=[500,150], verbose=True)"
   ]
  },
  {
   "cell_type": "code",
   "execution_count": 58,
   "metadata": {},
   "outputs": [
    {
     "name": "stderr",
     "output_type": "stream",
     "text": [
      "C:\\Users\\myraw\\anaconda3\\lib\\site-packages\\sklearn\\base.py:209: FutureWarning: From version 0.24, get_params will raise an AttributeError if a parameter cannot be retrieved as an instance attribute. Previously it would return None.\n",
      "  warnings.warn('From version 0.24, get_params will raise an '\n"
     ]
    },
    {
     "data": {
      "image/png": "[encoded data removed]",
      "text/plain": [
       "<Figure size 576x396 with 1 Axes>"
      ]
     },
     "metadata": {},
     "output_type": "display_data"
    },
    {
     "data": {
      "text/plain": [
       "<matplotlib.axes._subplots.AxesSubplot at 0x28c18b51d60>"
      ]
     },
     "execution_count": 58,
     "metadata": {},
     "output_type": "execute_result"
    }
   ],
   "source": [
    "# fit the model and view confusion matrix results\n",
    "from yellowbrick.classifier import ConfusionMatrix\n",
    "\n",
    "classes = ['sports', 'video_games', 'science_and_technology']\n",
    "cm = ConfusionMatrix(clf, classes=classes, percent=False)\n",
    "cm.fit(x_train, y_train)\n",
    "\n",
    "# Use the test data to make predictions and score the results\n",
    "cm.score(x_test, y_test)\n",
    "\n",
    "# change fontsize of the labels in the figure\n",
    "for label in cm.ax.texts:\n",
    "    label.set_size(20)\n",
    "\n",
    "cm.poof()"
   ]
  },
  {
   "cell_type": "code",
   "execution_count": 60,
   "metadata": {},
   "outputs": [
    {
     "name": "stderr",
     "output_type": "stream",
     "text": [
      "C:\\Users\\myraw\\anaconda3\\lib\\site-packages\\sklearn\\base.py:209: FutureWarning: From version 0.24, get_params will raise an AttributeError if a parameter cannot be retrieved as an instance attribute. Previously it would return None.\n",
      "  warnings.warn('From version 0.24, get_params will raise an '\n"
     ]
    },
    {
     "data": {
      "image/png": "[encoded data removed]",
      "text/plain": [
       "<Figure size 1080x504 with 2 Axes>"
      ]
     },
     "metadata": {
      "needs_background": "light"
     },
     "output_type": "display_data"
    }
   ],
   "source": [
    "# Check the Precision, Recall, and F1 Score\n",
    "import matplotlib.pyplot as plt\n",
    "\n",
    "# import libraries\n",
    "from yellowbrick.classifier import ClassificationReport\n",
    "\n",
    "# set the size of the figure and the font size \n",
    "plt.rcParams['figure.figsize'] = (15, 7)\n",
    "plt.rcParams['font.size'] = 20\n",
    "\n",
    "# Instantiate the visualizer\n",
    "visualizer = ClassificationReport(clf, classes=classes)\n",
    "\n",
    "visualizer.fit(x_train, y_train)  # Fit the training data to the visualizer\n",
    "visualizer.score(x_test, y_test)  # Evaluate the model on the test data\n",
    "g = visualizer.poof()"
   ]
  },
  {
   "cell_type": "markdown",
   "metadata": {},
   "source": [
    "***2. Neural Network Classifier with Keras***"
   ]
  },
  {
   "cell_type": "code",
   "execution_count": 141,
   "metadata": {},
   "outputs": [],
   "source": [
    "# In order for keras model to run, change format from sparse to dense matrix\n",
    "x_train2 = x_train.todense()\n",
    "x_test2 = x_test.todense()"
   ]
  },
  {
   "cell_type": "code",
   "execution_count": 94,
   "metadata": {},
   "outputs": [],
   "source": [
    "# Import necessary libraries and create build_network function\n",
    "from keras.layers import Dense\n",
    "from keras.models import Sequential\n",
    "\n",
    "N_FEATURES = 3000\n",
    "N_CLASSES = 3\n",
    "\n",
    "def build_network():\n",
    "    nn = Sequential()\n",
    "    nn.add(Dense(500, activation='relu', input_shape=(N_FEATURES,)))\n",
    "    nn.add(Dense(150, activation='relu'))\n",
    "    nn.add(Dense(N_CLASSES, activation='softmax')),\n",
    "    nn.compile(loss='categorical_crossentropy',\n",
    "              optimizer='adam',\n",
    "              metrics=['accuracy'])\n",
    "    return nn"
   ]
  },
  {
   "cell_type": "code",
   "execution_count": 95,
   "metadata": {},
   "outputs": [],
   "source": [
    "# Create classifier\n",
    "from keras.wrappers.scikit_learn import KerasClassifier\n",
    "kf = KerasClassifier(build_fn=build_network, epochs=200, batch_size=128)"
   ]
  },
  {
   "cell_type": "code",
   "execution_count": 142,
   "metadata": {
    "scrolled": false
   },
   "outputs": [
    {
     "name": "stdout",
     "output_type": "stream",
     "text": [
      "Epoch 1/200\n",
      "6/6 [==============================] - 0s 12ms/step - loss: 1.0518 - accuracy: 0.6080\n",
      "Epoch 2/200\n",
      "6/6 [==============================] - 0s 13ms/step - loss: 0.8613 - accuracy: 0.6837\n",
      "Epoch 3/200\n",
      "6/6 [==============================] - 0s 13ms/step - loss: 0.6896 - accuracy: 0.7167\n",
      "Epoch 4/200\n",
      "6/6 [==============================] - 0s 13ms/step - loss: 0.6824 - accuracy: 0.6840\n",
      "Epoch 5/200\n",
      "6/6 [==============================] - 0s 13ms/step - loss: 0.6106 - accuracy: 0.6917\n",
      "Epoch 6/200\n",
      "6/6 [==============================] - 0s 13ms/step - loss: 0.5378 - accuracy: 0.7108\n",
      "Epoch 7/200\n",
      "6/6 [==============================] - 0s 13ms/step - loss: 0.4898 - accuracy: 0.7149\n",
      "Epoch 8/200\n",
      "6/6 [==============================] - 0s 12ms/step - loss: 0.4289 - accuracy: 0.8049\n",
      "Epoch 9/200\n",
      "6/6 [==============================] - 0s 14ms/step - loss: 0.3807 - accuracy: 0.8714\n",
      "Epoch 10/200\n",
      "6/6 [==============================] - 0s 14ms/step - loss: 0.3123 - accuracy: 0.9001\n",
      "Epoch 11/200\n",
      "6/6 [==============================] - 0s 13ms/step - loss: 0.2545 - accuracy: 0.9161\n",
      "Epoch 12/200\n",
      "6/6 [==============================] - 0s 13ms/step - loss: 0.2536 - accuracy: 0.9024\n",
      "Epoch 13/200\n",
      "6/6 [==============================] - 0s 13ms/step - loss: 0.2130 - accuracy: 0.9086\n",
      "Epoch 14/200\n",
      "6/6 [==============================] - 0s 13ms/step - loss: 0.1957 - accuracy: 0.9142\n",
      "Epoch 15/200\n",
      "6/6 [==============================] - ETA: 0s - loss: 0.2131 - accuracy: 0.90 - 0s 14ms/step - loss: 0.2032 - accuracy: 0.9097\n",
      "Epoch 16/200\n",
      "6/6 [==============================] - 0s 12ms/step - loss: 0.1637 - accuracy: 0.9208\n",
      "Epoch 17/200\n",
      "6/6 [==============================] - 0s 13ms/step - loss: 0.1631 - accuracy: 0.9303\n",
      "Epoch 18/200\n",
      "6/6 [==============================] - 0s 13ms/step - loss: 0.1690 - accuracy: 0.9409\n",
      "Epoch 19/200\n",
      "6/6 [==============================] - 0s 13ms/step - loss: 0.1644 - accuracy: 0.9489\n",
      "Epoch 20/200\n",
      "6/6 [==============================] - 0s 13ms/step - loss: 0.1503 - accuracy: 0.9501\n",
      "Epoch 21/200\n",
      "6/6 [==============================] - 0s 14ms/step - loss: 0.1195 - accuracy: 0.9616\n",
      "Epoch 22/200\n",
      "6/6 [==============================] - 0s 14ms/step - loss: 0.1371 - accuracy: 0.9528\n",
      "Epoch 23/200\n",
      "6/6 [==============================] - 0s 13ms/step - loss: 0.1269 - accuracy: 0.9470\n",
      "Epoch 24/200\n",
      "6/6 [==============================] - 0s 13ms/step - loss: 0.1208 - accuracy: 0.9545\n",
      "Epoch 25/200\n",
      "6/6 [==============================] - 0s 13ms/step - loss: 0.1245 - accuracy: 0.9532\n",
      "Epoch 26/200\n",
      "6/6 [==============================] - 0s 14ms/step - loss: 0.1115 - accuracy: 0.9555\n",
      "Epoch 27/200\n",
      "6/6 [==============================] - 0s 15ms/step - loss: 0.1148 - accuracy: 0.9542\n",
      "Epoch 28/200\n",
      "6/6 [==============================] - 0s 15ms/step - loss: 0.1197 - accuracy: 0.9531\n",
      "Epoch 29/200\n",
      "6/6 [==============================] - 0s 14ms/step - loss: 0.1091 - accuracy: 0.9564\n",
      "Epoch 30/200\n",
      "6/6 [==============================] - 0s 15ms/step - loss: 0.1043 - accuracy: 0.9567\n",
      "Epoch 31/200\n",
      "6/6 [==============================] - 0s 15ms/step - loss: 0.1025 - accuracy: 0.9632\n",
      "Epoch 32/200\n",
      "6/6 [==============================] - 0s 14ms/step - loss: 0.1236 - accuracy: 0.9450\n",
      "Epoch 33/200\n",
      "6/6 [==============================] - 0s 14ms/step - loss: 0.1136 - accuracy: 0.9505\n",
      "Epoch 34/200\n",
      "6/6 [==============================] - ETA: 0s - loss: 0.1153 - accuracy: 0.95 - 0s 14ms/step - loss: 0.1147 - accuracy: 0.9515\n",
      "Epoch 35/200\n",
      "6/6 [==============================] - 0s 14ms/step - loss: 0.1080 - accuracy: 0.9543\n",
      "Epoch 36/200\n",
      "6/6 [==============================] - 0s 14ms/step - loss: 0.1075 - accuracy: 0.9551\n",
      "Epoch 37/200\n",
      "6/6 [==============================] - 0s 14ms/step - loss: 0.1251 - accuracy: 0.9423\n",
      "Epoch 38/200\n",
      "6/6 [==============================] - 0s 14ms/step - loss: 0.1086 - accuracy: 0.9513\n",
      "Epoch 39/200\n",
      "6/6 [==============================] - 0s 14ms/step - loss: 0.1135 - accuracy: 0.9523\n",
      "Epoch 40/200\n",
      "6/6 [==============================] - 0s 14ms/step - loss: 0.1094 - accuracy: 0.9524\n",
      "Epoch 41/200\n",
      "6/6 [==============================] - 0s 15ms/step - loss: 0.1042 - accuracy: 0.9553\n",
      "Epoch 42/200\n",
      "6/6 [==============================] - 0s 14ms/step - loss: 0.1111 - accuracy: 0.9501\n",
      "Epoch 43/200\n",
      "6/6 [==============================] - 0s 14ms/step - loss: 0.0961 - accuracy: 0.9587\n",
      "Epoch 44/200\n",
      "6/6 [==============================] - 0s 15ms/step - loss: 0.1231 - accuracy: 0.9436\n",
      "Epoch 45/200\n",
      "6/6 [==============================] - 0s 14ms/step - loss: 0.1095 - accuracy: 0.9533\n",
      "Epoch 46/200\n",
      "6/6 [==============================] - 0s 14ms/step - loss: 0.1018 - accuracy: 0.9553\n",
      "Epoch 47/200\n",
      "6/6 [==============================] - 0s 14ms/step - loss: 0.1269 - accuracy: 0.9431\n",
      "Epoch 48/200\n",
      "6/6 [==============================] - 0s 14ms/step - loss: 0.1070 - accuracy: 0.9571\n",
      "Epoch 49/200\n",
      "6/6 [==============================] - 0s 14ms/step - loss: 0.1103 - accuracy: 0.9521\n",
      "Epoch 50/200\n",
      "6/6 [==============================] - 0s 14ms/step - loss: 0.1155 - accuracy: 0.9542\n",
      "Epoch 51/200\n",
      "6/6 [==============================] - 0s 13ms/step - loss: 0.1091 - accuracy: 0.9556\n",
      "Epoch 52/200\n",
      "6/6 [==============================] - 0s 14ms/step - loss: 0.1041 - accuracy: 0.9559\n",
      "Epoch 53/200\n",
      "6/6 [==============================] - 0s 16ms/step - loss: 0.1198 - accuracy: 0.9474\n",
      "Epoch 54/200\n",
      "6/6 [==============================] - 0s 15ms/step - loss: 0.1186 - accuracy: 0.9475\n",
      "Epoch 55/200\n",
      "6/6 [==============================] - 0s 16ms/step - loss: 0.1104 - accuracy: 0.9542\n",
      "Epoch 56/200\n",
      "6/6 [==============================] - 0s 15ms/step - loss: 0.1144 - accuracy: 0.9498\n",
      "Epoch 57/200\n",
      "6/6 [==============================] - 0s 16ms/step - loss: 0.1077 - accuracy: 0.9503\n",
      "Epoch 58/200\n",
      "6/6 [==============================] - 0s 15ms/step - loss: 0.1100 - accuracy: 0.9534\n",
      "Epoch 59/200\n",
      "6/6 [==============================] - 0s 15ms/step - loss: 0.1155 - accuracy: 0.9535\n",
      "Epoch 60/200\n",
      "6/6 [==============================] - 0s 15ms/step - loss: 0.1323 - accuracy: 0.9385\n",
      "Epoch 61/200\n",
      "6/6 [==============================] - 0s 14ms/step - loss: 0.1026 - accuracy: 0.9540\n",
      "Epoch 62/200\n",
      "6/6 [==============================] - 0s 15ms/step - loss: 0.0998 - accuracy: 0.9595\n",
      "Epoch 63/200\n",
      "6/6 [==============================] - 0s 15ms/step - loss: 0.1029 - accuracy: 0.9560\n",
      "Epoch 64/200\n",
      "6/6 [==============================] - 0s 16ms/step - loss: 0.1081 - accuracy: 0.9459\n",
      "Epoch 65/200\n",
      "6/6 [==============================] - 0s 14ms/step - loss: 0.1142 - accuracy: 0.9514\n",
      "Epoch 66/200\n",
      "6/6 [==============================] - 0s 14ms/step - loss: 0.1120 - accuracy: 0.9473\n",
      "Epoch 67/200\n",
      "6/6 [==============================] - 0s 14ms/step - loss: 0.1151 - accuracy: 0.9522\n",
      "Epoch 68/200\n",
      "6/6 [==============================] - 0s 15ms/step - loss: 0.1106 - accuracy: 0.9523\n",
      "Epoch 69/200\n",
      "6/6 [==============================] - 0s 14ms/step - loss: 0.0994 - accuracy: 0.9554\n",
      "Epoch 70/200\n",
      "6/6 [==============================] - 0s 13ms/step - loss: 0.1114 - accuracy: 0.9535\n",
      "Epoch 71/200\n",
      "6/6 [==============================] - 0s 14ms/step - loss: 0.1069 - accuracy: 0.9532\n",
      "Epoch 72/200\n",
      "6/6 [==============================] - 0s 13ms/step - loss: 0.1230 - accuracy: 0.9458\n",
      "Epoch 73/200\n",
      "6/6 [==============================] - 0s 13ms/step - loss: 0.0878 - accuracy: 0.9644\n",
      "Epoch 74/200\n",
      "6/6 [==============================] - 0s 13ms/step - loss: 0.1105 - accuracy: 0.9527\n",
      "Epoch 75/200\n",
      "6/6 [==============================] - 0s 13ms/step - loss: 0.1082 - accuracy: 0.9571\n",
      "Epoch 76/200\n",
      "6/6 [==============================] - 0s 13ms/step - loss: 0.1083 - accuracy: 0.9549\n",
      "Epoch 77/200\n",
      "6/6 [==============================] - 0s 14ms/step - loss: 0.1084 - accuracy: 0.9558\n",
      "Epoch 78/200\n",
      "6/6 [==============================] - 0s 14ms/step - loss: 0.1022 - accuracy: 0.9575\n",
      "Epoch 79/200\n",
      "6/6 [==============================] - 0s 14ms/step - loss: 0.1151 - accuracy: 0.9512\n",
      "Epoch 80/200\n",
      "6/6 [==============================] - 0s 13ms/step - loss: 0.1061 - accuracy: 0.9544\n",
      "Epoch 81/200\n",
      "6/6 [==============================] - 0s 14ms/step - loss: 0.1030 - accuracy: 0.9553\n",
      "Epoch 82/200\n",
      "6/6 [==============================] - 0s 13ms/step - loss: 0.0975 - accuracy: 0.9584\n"
     ]
    },
    {
     "name": "stdout",
     "output_type": "stream",
     "text": [
      "Epoch 83/200\n",
      "6/6 [==============================] - 0s 14ms/step - loss: 0.1030 - accuracy: 0.9477\n",
      "Epoch 84/200\n",
      "6/6 [==============================] - 0s 14ms/step - loss: 0.1090 - accuracy: 0.9470\n",
      "Epoch 85/200\n",
      "6/6 [==============================] - 0s 13ms/step - loss: 0.1044 - accuracy: 0.9562\n",
      "Epoch 86/200\n",
      "6/6 [==============================] - 0s 14ms/step - loss: 0.1081 - accuracy: 0.9481\n",
      "Epoch 87/200\n",
      "6/6 [==============================] - 0s 13ms/step - loss: 0.1055 - accuracy: 0.9535\n",
      "Epoch 88/200\n",
      "6/6 [==============================] - 0s 12ms/step - loss: 0.1145 - accuracy: 0.9499\n",
      "Epoch 89/200\n",
      "6/6 [==============================] - 0s 13ms/step - loss: 0.1056 - accuracy: 0.9543\n",
      "Epoch 90/200\n",
      "6/6 [==============================] - 0s 14ms/step - loss: 0.0943 - accuracy: 0.9562\n",
      "Epoch 91/200\n",
      "6/6 [==============================] - 0s 13ms/step - loss: 0.0993 - accuracy: 0.9575\n",
      "Epoch 92/200\n",
      "6/6 [==============================] - 0s 13ms/step - loss: 0.0890 - accuracy: 0.9600\n",
      "Epoch 93/200\n",
      "6/6 [==============================] - 0s 13ms/step - loss: 0.1060 - accuracy: 0.9554\n",
      "Epoch 94/200\n",
      "6/6 [==============================] - 0s 13ms/step - loss: 0.1004 - accuracy: 0.9590\n",
      "Epoch 95/200\n",
      "6/6 [==============================] - 0s 13ms/step - loss: 0.0973 - accuracy: 0.9591\n",
      "Epoch 96/200\n",
      "6/6 [==============================] - 0s 13ms/step - loss: 0.1030 - accuracy: 0.9607\n",
      "Epoch 97/200\n",
      "6/6 [==============================] - 0s 13ms/step - loss: 0.1050 - accuracy: 0.9559\n",
      "Epoch 98/200\n",
      "6/6 [==============================] - 0s 13ms/step - loss: 0.1010 - accuracy: 0.9560\n",
      "Epoch 99/200\n",
      "6/6 [==============================] - 0s 12ms/step - loss: 0.1100 - accuracy: 0.9525\n",
      "Epoch 100/200\n",
      "6/6 [==============================] - 0s 13ms/step - loss: 0.1111 - accuracy: 0.9482\n",
      "Epoch 101/200\n",
      "6/6 [==============================] - 0s 13ms/step - loss: 0.1058 - accuracy: 0.9506\n",
      "Epoch 102/200\n",
      "6/6 [==============================] - 0s 13ms/step - loss: 0.1001 - accuracy: 0.9494\n",
      "Epoch 103/200\n",
      "6/6 [==============================] - 0s 12ms/step - loss: 0.1176 - accuracy: 0.9513\n",
      "Epoch 104/200\n",
      "6/6 [==============================] - 0s 13ms/step - loss: 0.1105 - accuracy: 0.9498\n",
      "Epoch 105/200\n",
      "6/6 [==============================] - 0s 13ms/step - loss: 0.1085 - accuracy: 0.9552\n",
      "Epoch 106/200\n",
      "6/6 [==============================] - 0s 13ms/step - loss: 0.0913 - accuracy: 0.9592\n",
      "Epoch 107/200\n",
      "6/6 [==============================] - 0s 13ms/step - loss: 0.0976 - accuracy: 0.9546\n",
      "Epoch 108/200\n",
      "6/6 [==============================] - 0s 12ms/step - loss: 0.1061 - accuracy: 0.9542\n",
      "Epoch 109/200\n",
      "6/6 [==============================] - 0s 13ms/step - loss: 0.1027 - accuracy: 0.9570\n",
      "Epoch 110/200\n",
      "6/6 [==============================] - 0s 13ms/step - loss: 0.1126 - accuracy: 0.9504\n",
      "Epoch 111/200\n",
      "6/6 [==============================] - 0s 13ms/step - loss: 0.0935 - accuracy: 0.9617\n",
      "Epoch 112/200\n",
      "6/6 [==============================] - 0s 13ms/step - loss: 0.1011 - accuracy: 0.9542\n",
      "Epoch 113/200\n",
      "6/6 [==============================] - 0s 13ms/step - loss: 0.1152 - accuracy: 0.9514\n",
      "Epoch 114/200\n",
      "6/6 [==============================] - 0s 13ms/step - loss: 0.1095 - accuracy: 0.9501\n",
      "Epoch 115/200\n",
      "6/6 [==============================] - 0s 13ms/step - loss: 0.1065 - accuracy: 0.9577\n",
      "Epoch 116/200\n",
      "6/6 [==============================] - 0s 13ms/step - loss: 0.1116 - accuracy: 0.9527\n",
      "Epoch 117/200\n",
      "6/6 [==============================] - 0s 13ms/step - loss: 0.1144 - accuracy: 0.9475\n",
      "Epoch 118/200\n",
      "6/6 [==============================] - 0s 13ms/step - loss: 0.0994 - accuracy: 0.9527\n",
      "Epoch 119/200\n",
      "6/6 [==============================] - 0s 14ms/step - loss: 0.0965 - accuracy: 0.9593\n",
      "Epoch 120/200\n",
      "6/6 [==============================] - 0s 12ms/step - loss: 0.1101 - accuracy: 0.9501\n",
      "Epoch 121/200\n",
      "6/6 [==============================] - 0s 13ms/step - loss: 0.1136 - accuracy: 0.9504\n",
      "Epoch 122/200\n",
      "6/6 [==============================] - 0s 13ms/step - loss: 0.1022 - accuracy: 0.9559\n",
      "Epoch 123/200\n",
      "6/6 [==============================] - 0s 13ms/step - loss: 0.1058 - accuracy: 0.9552\n",
      "Epoch 124/200\n",
      "6/6 [==============================] - 0s 13ms/step - loss: 0.1130 - accuracy: 0.9470\n",
      "Epoch 125/200\n",
      "6/6 [==============================] - 0s 13ms/step - loss: 0.0889 - accuracy: 0.9601\n",
      "Epoch 126/200\n",
      "6/6 [==============================] - 0s 13ms/step - loss: 0.0993 - accuracy: 0.9601\n",
      "Epoch 127/200\n",
      "6/6 [==============================] - 0s 13ms/step - loss: 0.1105 - accuracy: 0.9549\n",
      "Epoch 128/200\n",
      "6/6 [==============================] - 0s 13ms/step - loss: 0.1070 - accuracy: 0.9580\n",
      "Epoch 129/200\n",
      "6/6 [==============================] - 0s 12ms/step - loss: 0.1190 - accuracy: 0.9468\n",
      "Epoch 130/200\n",
      "6/6 [==============================] - 0s 14ms/step - loss: 0.1095 - accuracy: 0.9478\n",
      "Epoch 131/200\n",
      "6/6 [==============================] - 0s 13ms/step - loss: 0.1272 - accuracy: 0.9427\n",
      "Epoch 132/200\n",
      "6/6 [==============================] - 0s 13ms/step - loss: 0.1096 - accuracy: 0.9509\n",
      "Epoch 133/200\n",
      "6/6 [==============================] - 0s 14ms/step - loss: 0.1217 - accuracy: 0.9452\n",
      "Epoch 134/200\n",
      "6/6 [==============================] - 0s 13ms/step - loss: 0.0970 - accuracy: 0.9542\n",
      "Epoch 135/200\n",
      "6/6 [==============================] - 0s 13ms/step - loss: 0.1152 - accuracy: 0.9512\n",
      "Epoch 136/200\n",
      "6/6 [==============================] - 0s 14ms/step - loss: 0.0959 - accuracy: 0.9604\n",
      "Epoch 137/200\n",
      "6/6 [==============================] - 0s 13ms/step - loss: 0.1076 - accuracy: 0.9534\n",
      "Epoch 138/200\n",
      "6/6 [==============================] - 0s 15ms/step - loss: 0.1005 - accuracy: 0.9533\n",
      "Epoch 139/200\n",
      "6/6 [==============================] - 0s 14ms/step - loss: 0.1094 - accuracy: 0.9450\n",
      "Epoch 140/200\n",
      "6/6 [==============================] - 0s 15ms/step - loss: 0.1009 - accuracy: 0.9583\n",
      "Epoch 141/200\n",
      "6/6 [==============================] - 0s 14ms/step - loss: 0.1071 - accuracy: 0.9532\n",
      "Epoch 142/200\n",
      "6/6 [==============================] - 0s 16ms/step - loss: 0.1074 - accuracy: 0.9567\n",
      "Epoch 143/200\n",
      "6/6 [==============================] - 0s 12ms/step - loss: 0.1077 - accuracy: 0.9504\n",
      "Epoch 144/200\n",
      "6/6 [==============================] - 0s 13ms/step - loss: 0.1071 - accuracy: 0.9481\n",
      "Epoch 145/200\n",
      "6/6 [==============================] - 0s 13ms/step - loss: 0.1034 - accuracy: 0.9526\n",
      "Epoch 146/200\n",
      "6/6 [==============================] - 0s 13ms/step - loss: 0.1180 - accuracy: 0.9467\n",
      "Epoch 147/200\n",
      "6/6 [==============================] - 0s 13ms/step - loss: 0.0983 - accuracy: 0.9567\n",
      "Epoch 148/200\n",
      "6/6 [==============================] - 0s 13ms/step - loss: 0.0978 - accuracy: 0.9544\n",
      "Epoch 149/200\n",
      "6/6 [==============================] - 0s 13ms/step - loss: 0.0942 - accuracy: 0.9599\n",
      "Epoch 150/200\n",
      "6/6 [==============================] - 0s 13ms/step - loss: 0.1065 - accuracy: 0.9533\n",
      "Epoch 151/200\n",
      "6/6 [==============================] - 0s 15ms/step - loss: 0.1044 - accuracy: 0.9547\n",
      "Epoch 152/200\n",
      "6/6 [==============================] - 0s 14ms/step - loss: 0.1033 - accuracy: 0.9573\n",
      "Epoch 153/200\n",
      "6/6 [==============================] - 0s 13ms/step - loss: 0.1238 - accuracy: 0.9491\n",
      "Epoch 154/200\n",
      "6/6 [==============================] - 0s 13ms/step - loss: 0.1074 - accuracy: 0.9509\n",
      "Epoch 155/200\n",
      "6/6 [==============================] - 0s 13ms/step - loss: 0.0986 - accuracy: 0.9522\n",
      "Epoch 156/200\n",
      "6/6 [==============================] - 0s 13ms/step - loss: 0.1018 - accuracy: 0.9574\n",
      "Epoch 157/200\n",
      "6/6 [==============================] - 0s 13ms/step - loss: 0.0973 - accuracy: 0.9605\n",
      "Epoch 158/200\n",
      "6/6 [==============================] - 0s 13ms/step - loss: 0.0974 - accuracy: 0.9568\n",
      "Epoch 159/200\n",
      "6/6 [==============================] - 0s 14ms/step - loss: 0.0840 - accuracy: 0.9632\n",
      "Epoch 160/200\n",
      "6/6 [==============================] - 0s 13ms/step - loss: 0.1109 - accuracy: 0.9494\n",
      "Epoch 161/200\n",
      "6/6 [==============================] - 0s 13ms/step - loss: 0.1036 - accuracy: 0.9585\n",
      "Epoch 162/200\n",
      "6/6 [==============================] - 0s 14ms/step - loss: 0.1066 - accuracy: 0.9514\n",
      "Epoch 163/200\n",
      "6/6 [==============================] - 0s 14ms/step - loss: 0.1178 - accuracy: 0.9460\n",
      "Epoch 164/200\n",
      "6/6 [==============================] - 0s 14ms/step - loss: 0.1062 - accuracy: 0.9535\n",
      "Epoch 165/200\n"
     ]
    },
    {
     "name": "stdout",
     "output_type": "stream",
     "text": [
      "6/6 [==============================] - 0s 13ms/step - loss: 0.0926 - accuracy: 0.9615\n",
      "Epoch 166/200\n",
      "6/6 [==============================] - 0s 14ms/step - loss: 0.1148 - accuracy: 0.9465\n",
      "Epoch 167/200\n",
      "6/6 [==============================] - 0s 13ms/step - loss: 0.1153 - accuracy: 0.9454\n",
      "Epoch 168/200\n",
      "6/6 [==============================] - 0s 14ms/step - loss: 0.1225 - accuracy: 0.9434\n",
      "Epoch 169/200\n",
      "6/6 [==============================] - 0s 13ms/step - loss: 0.1099 - accuracy: 0.9537\n",
      "Epoch 170/200\n",
      "6/6 [==============================] - 0s 13ms/step - loss: 0.1068 - accuracy: 0.9520\n",
      "Epoch 171/200\n",
      "6/6 [==============================] - 0s 12ms/step - loss: 0.1107 - accuracy: 0.9475\n",
      "Epoch 172/200\n",
      "6/6 [==============================] - 0s 14ms/step - loss: 0.1128 - accuracy: 0.9483\n",
      "Epoch 173/200\n",
      "6/6 [==============================] - 0s 14ms/step - loss: 0.0953 - accuracy: 0.9564\n",
      "Epoch 174/200\n",
      "6/6 [==============================] - 0s 14ms/step - loss: 0.1031 - accuracy: 0.9495\n",
      "Epoch 175/200\n",
      "6/6 [==============================] - 0s 13ms/step - loss: 0.0942 - accuracy: 0.9553\n",
      "Epoch 176/200\n",
      "6/6 [==============================] - 0s 14ms/step - loss: 0.0956 - accuracy: 0.9586\n",
      "Epoch 177/200\n",
      "6/6 [==============================] - 0s 14ms/step - loss: 0.1189 - accuracy: 0.9483 0s - loss: 0.1231 - accuracy: 0.94\n",
      "Epoch 178/200\n",
      "6/6 [==============================] - 0s 13ms/step - loss: 0.1028 - accuracy: 0.9535\n",
      "Epoch 179/200\n",
      "6/6 [==============================] - 0s 13ms/step - loss: 0.1035 - accuracy: 0.9526\n",
      "Epoch 180/200\n",
      "6/6 [==============================] - 0s 13ms/step - loss: 0.1100 - accuracy: 0.9532\n",
      "Epoch 181/200\n",
      "6/6 [==============================] - 0s 13ms/step - loss: 0.1151 - accuracy: 0.9477\n",
      "Epoch 182/200\n",
      "6/6 [==============================] - 0s 13ms/step - loss: 0.1078 - accuracy: 0.9565\n",
      "Epoch 183/200\n",
      "6/6 [==============================] - 0s 13ms/step - loss: 0.0957 - accuracy: 0.9628\n",
      "Epoch 184/200\n",
      "6/6 [==============================] - 0s 14ms/step - loss: 0.0946 - accuracy: 0.9607\n",
      "Epoch 185/200\n",
      "6/6 [==============================] - 0s 12ms/step - loss: 0.1037 - accuracy: 0.9536\n",
      "Epoch 186/200\n",
      "6/6 [==============================] - 0s 14ms/step - loss: 0.1178 - accuracy: 0.9500\n",
      "Epoch 187/200\n",
      "6/6 [==============================] - 0s 14ms/step - loss: 0.0950 - accuracy: 0.9636\n",
      "Epoch 188/200\n",
      "6/6 [==============================] - 0s 12ms/step - loss: 0.1134 - accuracy: 0.9540\n",
      "Epoch 189/200\n",
      "6/6 [==============================] - 0s 14ms/step - loss: 0.1122 - accuracy: 0.9536\n",
      "Epoch 190/200\n",
      "6/6 [==============================] - 0s 12ms/step - loss: 0.1015 - accuracy: 0.9565\n",
      "Epoch 191/200\n",
      "6/6 [==============================] - 0s 14ms/step - loss: 0.1140 - accuracy: 0.9506\n",
      "Epoch 192/200\n",
      "6/6 [==============================] - 0s 13ms/step - loss: 0.1203 - accuracy: 0.9421\n",
      "Epoch 193/200\n",
      "6/6 [==============================] - 0s 13ms/step - loss: 0.0977 - accuracy: 0.9565\n",
      "Epoch 194/200\n",
      "6/6 [==============================] - 0s 13ms/step - loss: 0.1103 - accuracy: 0.9508\n",
      "Epoch 195/200\n",
      "6/6 [==============================] - 0s 13ms/step - loss: 0.0941 - accuracy: 0.9633\n",
      "Epoch 196/200\n",
      "6/6 [==============================] - 0s 14ms/step - loss: 0.1220 - accuracy: 0.9490\n",
      "Epoch 197/200\n",
      "6/6 [==============================] - 0s 14ms/step - loss: 0.1192 - accuracy: 0.9458\n",
      "Epoch 198/200\n",
      "6/6 [==============================] - 0s 13ms/step - loss: 0.0916 - accuracy: 0.9629\n",
      "Epoch 199/200\n",
      "6/6 [==============================] - 0s 13ms/step - loss: 0.1082 - accuracy: 0.9523\n",
      "Epoch 200/200\n",
      "6/6 [==============================] - 0s 13ms/step - loss: 0.0922 - accuracy: 0.9633\n"
     ]
    },
    {
     "data": {
      "text/plain": [
       "<tensorflow.python.keras.callbacks.History at 0x28bf0717850>"
      ]
     },
     "execution_count": 142,
     "metadata": {},
     "output_type": "execute_result"
    }
   ],
   "source": [
    "kf.fit(x_train2, y_train)"
   ]
  },
  {
   "cell_type": "code",
   "execution_count": 145,
   "metadata": {
    "scrolled": true
   },
   "outputs": [
    {
     "data": {
      "text/plain": [
       "array([[  4,   1,   9],\n",
       "       [  0,  35,  47],\n",
       "       [  4,  33, 167]], dtype=int64)"
      ]
     },
     "execution_count": 145,
     "metadata": {},
     "output_type": "execute_result"
    }
   ],
   "source": [
    "# Because Yellowbrick would not work with my data, I used the following method to print the confusion matrix\n",
    "from sklearn.metrics import accuracy_score, confusion_matrix, roc_auc_score, auc, precision_recall_fscore_support\n",
    "nn_mod_predict = kf.predict(x_test2)\n",
    "confusion_matrix(y_test, nn_mod_predict)"
   ]
  },
  {
   "cell_type": "code",
   "execution_count": 156,
   "metadata": {},
   "outputs": [
    {
     "name": "stdout",
     "output_type": "stream",
     "text": [
      "Accuracy: 0.686667\n",
      "Precision: 0.671218\n",
      "Recall: 0.686667\n",
      "F1 score: 0.675577\n"
     ]
    }
   ],
   "source": [
    "# Calculate metrics on my model performance\n",
    "from sklearn.metrics import accuracy_score, precision_score, recall_score, f1_score, \n",
    "\n",
    "# accuracy: (tp + tn) / (p + n)\n",
    "accuracy = accuracy_score(y_test, nn_mod_predict)\n",
    "print('Accuracy: %f' % accuracy)\n",
    "# precision tp / (tp + fp)\n",
    "precision = precision_score(y_test, nn_mod_predict, average='weighted')\n",
    "print('Precision: %f' % precision)\n",
    "# recall: tp / (tp + fn)\n",
    "recall = recall_score(y_test, nn_mod_predict, average='weighted')\n",
    "print('Recall: %f' % recall)\n",
    "# f1: 2 tp / (2 tp + fp + fn)\n",
    "f1 = f1_score(y_test, nn_mod_predict, average='weighted')\n",
    "print('F1 score: %f' % f1)"
   ]
  },
  {
   "cell_type": "code",
   "execution_count": 163,
   "metadata": {},
   "outputs": [
    {
     "name": "stdout",
     "output_type": "stream",
     "text": [
      "                        precision    recall  f1-score   support\n",
      "\n",
      "science_and_technology       0.50      0.29      0.36        14\n",
      "                sports       0.51      0.43      0.46        82\n",
      "           video_games       0.75      0.82      0.78       204\n",
      "\n",
      "              accuracy                           0.69       300\n",
      "             macro avg       0.59      0.51      0.54       300\n",
      "          weighted avg       0.67      0.69      0.68       300\n",
      "\n"
     ]
    }
   ],
   "source": [
    "# print precision, recall, F1-score per each class/tag\n",
    "from sklearn.metrics import classification_report\n",
    "print(classification_report(y_test, nn_mod_predict))"
   ]
  },
  {
   "cell_type": "markdown",
   "metadata": {},
   "source": [
    "***3. Classifying Images***"
   ]
  },
  {
   "cell_type": "code",
   "execution_count": null,
   "metadata": {},
   "outputs": [],
   "source": [
    "In chapter 20 of the Machine Learning with Python Cookbook, implement the code found in section 20.15 classify MSINT \n",
    "images using a convolutional neural network. Report the accuracy of your results."
   ]
  },
  {
   "cell_type": "code",
   "execution_count": 1,
   "metadata": {},
   "outputs": [],
   "source": [
    "# Import libraries\n",
    "import numpy as np\n",
    "from keras.datasets import mnist\n",
    "from keras.models import Sequential\n",
    "from keras.layers import Dense, Dropout, Flatten\n",
    "from keras.layers.convolutional import Conv2D, MaxPooling2D\n",
    "from keras.utils import np_utils\n",
    "from keras import backend as K"
   ]
  },
  {
   "cell_type": "code",
   "execution_count": 26,
   "metadata": {},
   "outputs": [],
   "source": [
    "# Set the color channel value\n",
    "K.set_image_data_format('channels_last')"
   ]
  },
  {
   "cell_type": "code",
   "execution_count": 3,
   "metadata": {},
   "outputs": [],
   "source": [
    "# Set seed\n",
    "np.random.seed(0)"
   ]
  },
  {
   "cell_type": "code",
   "execution_count": 4,
   "metadata": {},
   "outputs": [],
   "source": [
    "# Set image information\n",
    "channels = 1\n",
    "height = 28\n",
    "width = 28"
   ]
  },
  {
   "cell_type": "code",
   "execution_count": 27,
   "metadata": {},
   "outputs": [],
   "source": [
    "# Load data and target from MNist\n",
    "(data_train, target_train), (data_test, target_test) = mnist.load_data()"
   ]
  },
  {
   "cell_type": "code",
   "execution_count": 28,
   "metadata": {},
   "outputs": [],
   "source": [
    "# Reshape training image data into features\n",
    "data_train = data_train.reshape(data_train.shape[0], height, width, channels)\n",
    "\n",
    "# Reshape test image data into features\n",
    "data_test = data_test.reshape(data_test.shape[0], height, width, channels)"
   ]
  },
  {
   "cell_type": "code",
   "execution_count": 29,
   "metadata": {},
   "outputs": [],
   "source": [
    "# Rescale pixel intensity to between 0 and 1\n",
    "features_train = data_train / 255\n",
    "features_test = data_test / 255"
   ]
  },
  {
   "cell_type": "code",
   "execution_count": 30,
   "metadata": {},
   "outputs": [],
   "source": [
    "# Ond-hot encode target\n",
    "target_train = np_utils.to_categorical(target_train)\n",
    "target_test = np_utils.to_categorical(target_test)\n",
    "number_of_classes = target_test.shape[1]"
   ]
  },
  {
   "cell_type": "code",
   "execution_count": 31,
   "metadata": {},
   "outputs": [],
   "source": [
    "# Build the neural network\n",
    "network = Sequential()\n",
    "\n",
    "# Add convolutional layer\n",
    "network.add(Conv2D(filters=64, kernel_size=(5, 5), input_shape=(height, width, channels), activation='relu'))\n",
    "network.add(MaxPooling2D(pool_size=(2, 2))) # Add max pooling layer\n",
    "network.add(Dropout(0.5)) # Add dropout layer\n",
    "network.add(Flatten()) # Add layer to flatten input\n",
    "network.add(Dense(128, activation='relu')) # Add fully connected layer with ReLU function\n",
    "network.add(Dropout(0.5)) # Add dropout layer\n",
    "network.add(Dense(number_of_classes, activation='softmax')) # Add fully connected layer with softmax function\n",
    "\n",
    "# Compile neural network\n",
    "network.compile(loss='categorical_crossentropy', optimizer='rmsprop', metrics=['accuracy'])"
   ]
  },
  {
   "cell_type": "code",
   "execution_count": 32,
   "metadata": {},
   "outputs": [
    {
     "data": {
      "text/plain": [
       "<tensorflow.python.keras.callbacks.History at 0x28683726ee0>"
      ]
     },
     "execution_count": 32,
     "metadata": {},
     "output_type": "execute_result"
    }
   ],
   "source": [
    "# Train neural network\n",
    "network.fit(features_train, target_train, epochs=2, verbose=0, batch_size=1000, validation_data=(features_test, target_test))"
   ]
  },
  {
   "cell_type": "code",
   "execution_count": 37,
   "metadata": {},
   "outputs": [
    {
     "name": "stdout",
     "output_type": "stream",
     "text": [
      "Test loss: 0.09573258459568024\n",
      "Test accuracy: 0.97079998254776\n"
     ]
    }
   ],
   "source": [
    "# Evaluate the model\n",
    "test_eval = network.evaluate(features_test, target_test, verbose=0)\n",
    "print('Test loss:', test_eval[0])\n",
    "print('Test accuracy:', test_eval[1])"
   ]
  }
 ],
 "metadata": {
  "kernelspec": {
   "display_name": "Python 3",
   "language": "python",
   "name": "python3"
  },
  "language_info": {
   "codemirror_mode": {
    "name": "ipython",
    "version": 3
   },
   "file_extension": ".py",
   "mimetype": "text/x-python",
   "name": "python",
   "nbconvert_exporter": "python",
   "pygments_lexer": "ipython3",
   "version": "3.8.3"
  }
 },
 "nbformat": 4,
 "nbformat_minor": 4
}
